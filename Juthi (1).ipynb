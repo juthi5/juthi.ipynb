{
  "nbformat": 4,
  "nbformat_minor": 0,
  "metadata": {
    "colab": {
      "provenance": []
    },
    "kernelspec": {
      "name": "python3",
      "display_name": "Python 3"
    },
    "language_info": {
      "name": "python"
    }
  },
  "cells": [
    {
      "cell_type": "code",
      "source": [
        "avg"
      ],
      "metadata": {
        "id": "0xRUQMORK_Sa"
      },
      "execution_count": null,
      "outputs": []
    },
    {
      "cell_type": "code",
      "source": [
        "\n",
        "number1 = float(input(\"Enter the first number: \"))\n",
        "number2 = float(input(\"Enter the second number: \"))\n",
        "\n",
        "average = (number1 + number2) / 2\n",
        "\n",
        "print(\"The average of\", number1, \"and\", number2, \"is\", average)\n"
      ],
      "metadata": {
        "colab": {
          "base_uri": "https://localhost:8080/"
        },
        "id": "ymVlD9BrLDpc",
        "outputId": "554df48f-e08f-4a4c-a8ee-b635aea7b9f0"
      },
      "execution_count": null,
      "outputs": [
        {
          "output_type": "stream",
          "name": "stdout",
          "text": [
            "Enter the first number: 6\n",
            "Enter the second number: 6\n",
            "The average of 6.0 and 6.0 is 6.0\n"
          ]
        }
      ]
    },
    {
      "cell_type": "code",
      "source": [],
      "metadata": {
        "id": "vKalp_o4LCXF"
      },
      "execution_count": null,
      "outputs": []
    },
    {
      "cell_type": "markdown",
      "source": [],
      "metadata": {
        "id": "dqL0wW29K-ys"
      }
    },
    {
      "cell_type": "code",
      "source": [
        "def mul (num):\n",
        "  for i in range (1,11):\n",
        "    mul=num*i;\n",
        "    if (i==6):\n",
        "      continue;\n",
        "    print (num, \"x\" , i, \"=\", mul);\n",
        "    if (i==8):\n",
        "      break;\n",
        "\n",
        "num = int(input(\"Enter the first number: \"))\n",
        "print (\"Multiplication\")\n",
        "mul(num)\n",
        "\n"
      ],
      "metadata": {
        "colab": {
          "base_uri": "https://localhost:8080/"
        },
        "id": "N5cr9ErHOgHE",
        "outputId": "27edcf1c-c8dd-429c-be7b-8f7b185bb8ae"
      },
      "execution_count": null,
      "outputs": [
        {
          "output_type": "stream",
          "name": "stdout",
          "text": [
            "Enter the first number: 5\n",
            "Multiplication\n",
            "5 x 1 = 5\n",
            "5 x 2 = 10\n",
            "5 x 3 = 15\n",
            "5 x 4 = 20\n",
            "5 x 5 = 25\n",
            "5 x 7 = 35\n",
            "5 x 8 = 40\n"
          ]
        }
      ]
    },
    {
      "cell_type": "code",
      "execution_count": null,
      "metadata": {
        "id": "E56oC-MyK8Kw"
      },
      "outputs": [],
      "source": []
    },
    {
      "cell_type": "code",
      "source": [
        "def mul(num):\n",
        "  for i in range(1,11):\n",
        "    num=6;\n",
        "    c=6*i;\n",
        "\n",
        "    if i==6:\n",
        "      continue;\n",
        "    if i==9:\n",
        "      break;\n",
        "    print (num, \"x\" , i, \"=\", mul);\n",
        "    mul(num);"
      ],
      "metadata": {
        "id": "0Q3BPU3wQ7A9"
      },
      "execution_count": null,
      "outputs": []
    },
    {
      "cell_type": "code",
      "source": [
        "list1 = [1,2,3,4,5]\n",
        "sum=0\n",
        "for i in list1:\n",
        "  if i%2==0:\n",
        "    sum = sum+i\n",
        "print (f\"sum of even = {sum}\")"
      ],
      "metadata": {
        "colab": {
          "base_uri": "https://localhost:8080/"
        },
        "id": "-YirxrDATqB0",
        "outputId": "87935153-1d50-46c4-edee-6c2dc8047d54"
      },
      "execution_count": null,
      "outputs": [
        {
          "output_type": "stream",
          "name": "stdout",
          "text": [
            "sum of even = 6\n"
          ]
        }
      ]
    },
    {
      "cell_type": "code",
      "source": [
        "list1 = [1,2,3,4,5]\n",
        "even= 0\n",
        "odd= 0\n",
        "\n",
        "for i in list1:\n",
        "  if i % 2 == 0:\n",
        "    sum=sum+i\n",
        "    even+= 1\n",
        "  else:\n",
        "    odd+= 1\n",
        "\n",
        "\n",
        "\n",
        "print(f\"Even numbers: {even}\")\n",
        "print(f\"Odd numbers: {odd}\")\n"
      ],
      "metadata": {
        "colab": {
          "base_uri": "https://localhost:8080/"
        },
        "id": "FVCEQSZnVWs0",
        "outputId": "9c3b9064-7db5-4239-f7a9-8922b65e9296"
      },
      "execution_count": null,
      "outputs": [
        {
          "output_type": "stream",
          "name": "stdout",
          "text": [
            "Even numbers: 2\n",
            "Odd numbers: 3\n"
          ]
        }
      ]
    },
    {
      "cell_type": "code",
      "source": [
        "a = [1, 3, 5, 7, 4]\n",
        "\n",
        "\n",
        "length_of_list = len(a)\n",
        "print(\"Length:\", length_of_list)\n",
        "\n",
        "\n",
        "type_of_list = type(a)\n",
        "print(\"Type:\", type_of_list)\n",
        "\n",
        "\n",
        "element_in_neg2 = a[-2]\n",
        "print(\"index -2:\", element_in_neg2)\n",
        "\n",
        "\n",
        "element_in_2 = a[2]\n",
        "print(\"index 2:\", element_in_2)\n"
      ],
      "metadata": {
        "colab": {
          "base_uri": "https://localhost:8080/"
        },
        "id": "bZ17jc2f6ZiS",
        "outputId": "197ea7d3-925d-47b9-e677-654a189a3669"
      },
      "execution_count": null,
      "outputs": [
        {
          "output_type": "stream",
          "name": "stdout",
          "text": [
            "Length: 5\n",
            "Type: <class 'list'>\n",
            "index -2: 7\n",
            "index 2: 5\n"
          ]
        }
      ]
    },
    {
      "cell_type": "code",
      "source": [
        "a = [1, 3, 5, 7, 4]\n",
        "\n",
        "a[-3] = 50\n",
        "print(\"Updated list:\", a)\n",
        "\n",
        "slice_2_4 = a[2:4]\n",
        "slice_to_neg3 = a[:-3]\n",
        "slice_neg4_to_neg1 = a[-4:-1]\n",
        "\n",
        "print(\"a[2:4]:\", slice_2_4)\n",
        "print(\"a[:-3]:\", slice_to_neg3)\n",
        "print(\"a[-4:-1]:\", slice_neg4_to_neg1)\n",
        "\n",
        "\n",
        "a.append(100)\n",
        "a[2] = 200\n",
        "print(\"Updated list:\", a)\n",
        "\n",
        "a.pop()\n",
        "print (\"After remove\", a)\n",
        "a.pop(1)\n",
        "print (\"After delete\", a)\n",
        "\n",
        "\n"
      ],
      "metadata": {
        "colab": {
          "base_uri": "https://localhost:8080/"
        },
        "id": "bq2fqGoC_0rW",
        "outputId": "e340bd2a-0ac1-4d9e-cbf2-082e9839e794"
      },
      "execution_count": null,
      "outputs": [
        {
          "output_type": "stream",
          "name": "stdout",
          "text": [
            "Updated list: [1, 3, 50, 7, 4]\n",
            "a[2:4]: [50, 7]\n",
            "a[:-3]: [1, 3]\n",
            "a[-4:-1]: [3, 50, 7]\n",
            "Updated list: [1, 3, 200, 7, 4, 100]\n",
            "After remove [1, 3, 200, 7, 4]\n",
            "After delete [1, 200, 7, 4]\n"
          ]
        }
      ]
    },
    {
      "cell_type": "markdown",
      "source": [
        "set"
      ],
      "metadata": {
        "id": "xxYgFwGJIu4Q"
      }
    },
    {
      "cell_type": "code",
      "source": [],
      "metadata": {
        "id": "NhSbYlTCHe9R"
      },
      "execution_count": null,
      "outputs": []
    },
    {
      "cell_type": "code",
      "source": [
        "a = {1, 3, 5, 8, 3, 7}\n",
        "b = {0, False, 1, 5}\n",
        "\n",
        "\n",
        "print(\"Length'a':\", len(a))\n",
        "print(\"Length'b':\", len(b))\n",
        "print(\"Type'a':\", type(a))\n",
        "print(\"Type'b':\", type(b))\n",
        "\n",
        "a.add(10)\n",
        "print(\"Updated Set:\",a)\n",
        "\n",
        "a.remove(8)\n",
        "print (\"After Removed Set:\",a)\n",
        "\n",
        "union_ab = a | b\n",
        "intersection_ab = a & b\n",
        "difference_ab = a - b\n",
        "\n",
        "print(\"Union a and b:\", union_ab)\n",
        "print(\"Intersection a and b:\", intersection_ab)\n",
        "print(\"Difference (a - b):\", difference_ab)\n",
        "\n",
        "for element in a:\n",
        "    print(element)\n",
        "\n",
        "    if element == 5:\n",
        "\n",
        "       break\n",
        "\n",
        "\n",
        "\n",
        "\n",
        "list = [2,3,4]\n",
        "\n",
        "new_set = set(list)\n",
        "result = a.union(new_set)\n",
        "print(result)\n",
        "\n"
      ],
      "metadata": {
        "colab": {
          "base_uri": "https://localhost:8080/"
        },
        "id": "cRQH80S9IxJ5",
        "outputId": "54f5c5a7-c7a8-49d8-da1c-10602a53381d"
      },
      "execution_count": null,
      "outputs": [
        {
          "output_type": "stream",
          "name": "stdout",
          "text": [
            "Length'a': 5\n",
            "Length'b': 3\n",
            "Type'a': <class 'set'>\n",
            "Type'b': <class 'set'>\n",
            "Updated Set: {1, 3, 5, 7, 8, 10}\n",
            "After Removed Set: {1, 3, 5, 7, 10}\n",
            "Union a and b: {0, 1, 3, 5, 7, 10}\n",
            "Intersection a and b: {1, 5}\n",
            "Difference (a - b): {10, 3, 7}\n",
            "1\n",
            "3\n",
            "5\n",
            "{1, 2, 3, 4, 5, 7, 10}\n"
          ]
        }
      ]
    },
    {
      "cell_type": "code",
      "source": [
        "from collections.abc import MutableMapping\n",
        "Employee = {\n",
        "    \"name\": \"A\",\n",
        "    \"age\": 40,\n",
        "    \"type\": {\n",
        "        \"developer\": [\"ios\", \"android\"]\n",
        "    },\n",
        "    \"parmanent\": True,\n",
        "    \"Salary\": 3000,\n",
        "    100: (1, 2, 3),\n",
        "    4.5: {5, 6, True, 7, 1}\n",
        "}\n",
        "\n",
        "\n",
        "print(\"Length of Employee:\", len(Employee))\n",
        "print(\"Type of Employee :\", type(Employee))\n",
        "\n",
        "\n",
        "developer_types = Employee[\"type\"][\"developer\"]\n",
        "print(\"Developer types:\", developer_types)\n",
        "\n",
        "Employee[\"parmanent\"] = False\n",
        "\n",
        "print(\"After update:\", Employee)\n",
        "\n",
        "\n",
        "\n"
      ],
      "metadata": {
        "colab": {
          "base_uri": "https://localhost:8080/"
        },
        "id": "dWR3xP2NPUt8",
        "outputId": "7bea16b4-8f5f-4b8e-9d3b-c1f0e7cc1bca"
      },
      "execution_count": null,
      "outputs": [
        {
          "output_type": "stream",
          "name": "stdout",
          "text": [
            "Length of Employee: 7\n",
            "Type of Employee : <class 'dict'>\n",
            "Developer types: ['ios', 'android']\n",
            "After update: {'name': 'A', 'age': 40, 'type': {'developer': ['ios', 'android']}, 'parmanent': False, 'Salary': 3000, 100: (1, 2, 3), 4.5: {True, 5, 6, 7}}\n"
          ]
        }
      ]
    }
  ]
}